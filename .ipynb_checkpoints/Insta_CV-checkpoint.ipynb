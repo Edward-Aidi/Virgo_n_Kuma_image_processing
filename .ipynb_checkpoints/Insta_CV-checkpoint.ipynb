{
 "cells": [
  {
   "cell_type": "code",
   "execution_count": 6,
   "metadata": {},
   "outputs": [],
   "source": [
    "import instaloader\n",
    "# https://instaloader.github.io/index.html"
   ]
  },
  {
   "cell_type": "code",
   "execution_count": 10,
   "metadata": {},
   "outputs": [
    {
     "name": "stdout",
     "output_type": "stream",
     "text": [
      "JSON Query to profile/: 404 Not Found [retrying; skip with ^C]\n",
      "JSON Query to profile/: 404 Not Found [retrying; skip with ^C]\n",
      "profile: Profile profile does not exist.\n",
      "The most similar profiles are: profile_set_, profileworld, photo_de_profile_tv, profile_wall, profile.set.\n",
      "Warning: Use --login to download HD version of profile pictures.\n",
      "virgo_n_kuma/2019-05-14_15-43-23_UTC_profile_pic.jpg already exists\n",
      "\n",
      "Errors occured:\n",
      "profile: Profile profile does not exist.\n",
      "The most similar profiles are: profile_set_, profileworld, photo_de_profile_tv, profile_wall, profile.set.\n",
      "Warning: Use --login to download HD version of profile pictures.\n"
     ]
    }
   ],
   "source": [
    "# Download all the pictures to local\n",
    "!instaloader profile virgo_n_kuma"
   ]
  },
  {
   "cell_type": "code",
   "execution_count": null,
   "metadata": {},
   "outputs": [],
   "source": []
  }
 ],
 "metadata": {
  "kernelspec": {
   "display_name": "Python 3",
   "language": "python",
   "name": "python3"
  },
  "language_info": {
   "codemirror_mode": {
    "name": "ipython",
    "version": 3
   },
   "file_extension": ".py",
   "mimetype": "text/x-python",
   "name": "python",
   "nbconvert_exporter": "python",
   "pygments_lexer": "ipython3",
   "version": "3.7.6"
  }
 },
 "nbformat": 4,
 "nbformat_minor": 4
}
